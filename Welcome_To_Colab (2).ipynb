
    {
      "cell_type": "code",
      "source": [
        "!pip install  pyspark"
      ],
      "metadata": {
        "colab": {
          "base_uri": "https://localhost:8080/"
        },
        "id": "Bf0rQUr8n7Lg",
        "outputId": "4a36c71d-fe6b-4c7c-fa38-688152892c37"
      },
      "execution_count": 1,
      "outputs": [
        {
          "output_type": "stream",
          "name": "stdout",
          "text": [
            "Requirement already satisfied: pyspark in /usr/local/lib/python3.11/dist-packages (3.5.1)\n",
            "Requirement already satisfied: py4j==0.10.9.7 in /usr/local/lib/python3.11/dist-packages (from pyspark) (0.10.9.7)\n"
          ]
        }
      ]
    },
    {
      "cell_type": "code",
      "source": [
        "# Step 2: Start SparkSession\n",
        "from pyspark.sql import SparkSession\n",
        "\n",
        "spark = SparkSession.builder \\\n",
        "    .appName(\"Aijobimpact_ML_Project\") \\\n",
        "    .getOrCreate()\n"
      ],
      "metadata": {
        "id": "U1yvPCtxoJhM"
      },
      "execution_count": 2,
      "outputs": []
    },
    {
      "cell_type": "code",
      "source": [
        "# Step 3: Load your dataset into a Spark DataFrame (Lakshita)\n",
        "df = spark.read.csv(\"/content/ai_job_trends_dataset.csv\", header=True, inferSchema=True)\n",
        "\n",
        "# Show first few rows\n",
        "df.show(5)\n"
      ],
      "metadata": {
        "colab": {
          "base_uri": "https://localhost:8080/"
        },
        "id": "7yHZvmH5o08p",
        "outputId": "cf292ea9-ca0d-4f47-9de0-d1d63567869c"
      },
      "execution_count": 3,
      "outputs": [
        {
          "output_type": "stream",
          "name": "stdout",
          "text": [
            "+--------------------+-------------+----------+---------------+-------------------+------------------+---------------------------+-------------------+-------------------------+---------------------+-------------------+---------+--------------------+\n",
            "|           Job Title|     Industry|Job Status|AI Impact Level|Median Salary (USD)|Required Education|Experience Required (Years)|Job Openings (2024)|Projected Openings (2030)|Remote Work Ratio (%)|Automation Risk (%)| Location|Gender Diversity (%)|\n",
            "+--------------------+-------------+----------+---------------+-------------------+------------------+---------------------------+-------------------+-------------------------+---------------------+-------------------+---------+--------------------+\n",
            "|  Investment analyst|           IT|Increasing|       Moderate|           42109.76|   Master’s Degree|                          5|               1515|                     6342|                55.96|              28.28|       UK|               44.63|\n",
            "|Journalist, newsp...|Manufacturing|Increasing|       Moderate|          132298.57|   Master’s Degree|                         15|               1243|                     6205|                16.81|              89.71|      USA|               66.39|\n",
            "|   Financial planner|      Finance|Increasing|            Low|          143279.19| Bachelor’s Degree|                          4|               3338|                     1154|                91.82|              72.97|   Canada|               41.13|\n",
            "|     Legal secretary|   Healthcare|Increasing|           High|           97576.13|  Associate Degree|                         15|               7173|                     4060|                 1.89|              99.94|Australia|               65.76|\n",
            "|Aeronautical engi...|           IT|Increasing|            Low|           60956.63|   Master’s Degree|                         13|               5944|                     7396|                53.76|              37.65|  Germany|               72.57|\n",
            "+--------------------+-------------+----------+---------------+-------------------+------------------+---------------------------+-------------------+-------------------------+---------------------+-------------------+---------+--------------------+\n",
            "only showing top 5 rows\n",
            "\n"
          ]
        }
      ]
    },
    {
      "cell_type": "code",
      "source": [
        "df.printSchema()\n"
      ],
      "metadata": {
        "colab": {
          "base_uri": "https://localhost:8080/"
        },
        "id": "0IMpLG9PqU--",
        "outputId": "cb88f5aa-a738-4ab2-e4a1-7486dcb090dc"
      },
      "execution_count": 4,
      "outputs": [
        {
          "output_type": "stream",
          "name": "stdout",
          "text": [
            "root\n",
            " |-- Job Title: string (nullable = true)\n",
            " |-- Industry: string (nullable = true)\n",
            " |-- Job Status: string (nullable = true)\n",
            " |-- AI Impact Level: string (nullable = true)\n",
            " |-- Median Salary (USD): double (nullable = true)\n",
            " |-- Required Education: string (nullable = true)\n",
            " |-- Experience Required (Years): integer (nullable = true)\n",
            " |-- Job Openings (2024): integer (nullable = true)\n",
            " |-- Projected Openings (2030): integer (nullable = true)\n",
            " |-- Remote Work Ratio (%): double (nullable = true)\n",
            " |-- Automation Risk (%): double (nullable = true)\n",
            " |-- Location: string (nullable = true)\n",
            " |-- Gender Diversity (%): double (nullable = true)\n",
            "\n"
          ]
        }
      ]
    },
    {
      "cell_type": "code",
      "source": [
        "from pyspark.sql.functions import col, isnan, when, count\n",
        "\n",
        "df.select([count(when(col(c).isNull(), c)).alias(c) for c in df.columns]).show()\n",
        "\n"
      ],
      "metadata": {
        "colab": {
          "base_uri": "https://localhost:8080/"
        },
        "id": "bsaazAlPq19l",
        "outputId": "92bd7007-595a-428d-9069-9f2c456e645c"
      },
      "execution_count": 5,
      "outputs": [
        {
          "output_type": "stream",
          "name": "stdout",
          "text": [
            "+---------+--------+----------+---------------+-------------------+------------------+---------------------------+-------------------+-------------------------+---------------------+-------------------+--------+--------------------+\n",
            "|Job Title|Industry|Job Status|AI Impact Level|Median Salary (USD)|Required Education|Experience Required (Years)|Job Openings (2024)|Projected Openings (2030)|Remote Work Ratio (%)|Automation Risk (%)|Location|Gender Diversity (%)|\n",
            "+---------+--------+----------+---------------+-------------------+------------------+---------------------------+-------------------+-------------------------+---------------------+-------------------+--------+--------------------+\n",
            "|        0|       0|         0|              0|                  0|                 0|                          0|                  0|                        0|                    0|                  0|       0|                   0|\n",
            "+---------+--------+----------+---------------+-------------------+------------------+---------------------------+-------------------+-------------------------+---------------------+-------------------+--------+--------------------+\n",
            "\n"
          ]
        }
      ]
    },
    {
      "cell_type": "code",
      "source": [
        "df = df.dropna()\n"
      ],
      "metadata": {
        "id": "y3vw1tP5q_e3"
      },
      "execution_count": 6,
      "outputs": []
    },
    {
      "cell_type": "code",
      "source": [
        "df = df.dropDuplicates()\n"
      ],
      "metadata": {
        "id": "FtEqH6X_rPZP"
      },
      "execution_count": 7,
      "outputs": []
    },
    {
      "cell_type": "code",
      "source": [
        "df.show(5)\n",
        "\n"
      ],
      "metadata": {
        "colab": {
          "base_uri": "https://localhost:8080/"
        },
        "id": "wiA6vjNTrRjC",
        "outputId": "6a187ada-52cf-46ec-8007-36acfea5de88"
      },
      "execution_count": 8,
      "outputs": [
        {
          "output_type": "stream",
          "name": "stdout",
          "text": [
            "+--------------------+-------------+----------+---------------+-------------------+------------------+---------------------------+-------------------+-------------------------+---------------------+-------------------+--------+--------------------+\n",
            "|           Job Title|     Industry|Job Status|AI Impact Level|Median Salary (USD)|Required Education|Experience Required (Years)|Job Openings (2024)|Projected Openings (2030)|Remote Work Ratio (%)|Automation Risk (%)|Location|Gender Diversity (%)|\n",
            "+--------------------+-------------+----------+---------------+-------------------+------------------+---------------------------+-------------------+-------------------------+---------------------+-------------------+--------+--------------------+\n",
            "|Designer, fashion...|   Healthcare|Decreasing|            Low|          113297.32|  Associate Degree|                          8|               9548|                     7281|                82.78|              79.61|     USA|                27.5|\n",
            "|       Tax inspector|    Education|Decreasing|            Low|          144115.67| Bachelor’s Degree|                          3|               5237|                     2017|                96.21|              85.85|  Canada|               49.69|\n",
            "|Accountant, chart...|Manufacturing|Decreasing|       Moderate|           59963.97|       High School|                         14|               4412|                     4427|                 23.4|              61.28|   China|               57.88|\n",
            "|Designer, industr...|           IT|Increasing|            Low|           46572.49|               PhD|                         18|               2619|                     8893|                77.67|              10.66|     USA|               50.53|\n",
            "|   Recycling officer|   Healthcare|Increasing|            Low|           53721.96|  Associate Degree|                         16|               2562|                     9504|                58.46|              10.82|  Canada|               41.82|\n",
            "+--------------------+-------------+----------+---------------+-------------------+------------------+---------------------------+-------------------+-------------------------+---------------------+-------------------+--------+--------------------+\n",
            "only showing top 5 rows\n",
            "\n"
          ]
        }
      ]
    },
    {
      "cell_type": "code",
      "source": [
        "df.describe().show()\n"
      ],
      "metadata": {
        "colab": {
          "base_uri": "https://localhost:8080/"
        },
        "id": "oiHnYtrWr8Cn",
        "outputId": "0e0b106c-c12b-4efe-cf3e-36b2c33beddb"
      },
      "execution_count": 9,
      "outputs": [
        {
          "output_type": "stream",
          "name": "stdout",
          "text": [
            "+-------+------------------+--------------+----------+---------------+-------------------+------------------+---------------------------+-------------------+-------------------------+---------------------+-------------------+---------+--------------------+\n",
            "|summary|         Job Title|      Industry|Job Status|AI Impact Level|Median Salary (USD)|Required Education|Experience Required (Years)|Job Openings (2024)|Projected Openings (2030)|Remote Work Ratio (%)|Automation Risk (%)| Location|Gender Diversity (%)|\n",
            "+-------+------------------+--------------+----------+---------------+-------------------+------------------+---------------------------+-------------------+-------------------------+---------------------+-------------------+---------+--------------------+\n",
            "|  count|             30000|         30000|     30000|          30000|              30000|             30000|                      30000|              30000|                    30000|                30000|              30000|    30000|               30000|\n",
            "|   mean|              NULL|          NULL|      NULL|           NULL|  90119.96563866659|              NULL|         10.051433333333334|  5039.640833333333|                5074.2181|     49.8364313333332|  50.15422933333321|     NULL|  49.979660333333456|\n",
            "| stddev|              NULL|          NULL|      NULL|           NULL| 34412.013952932415|              NULL|          6.060677547873675| 2861.0096537132836|       2866.5507219130836|   28.966688166560097|  28.75488893076543|     NULL|  17.274665293911216|\n",
            "|    min|Academic librarian|     Education|Decreasing|           High|           30001.86|  Associate Degree|                          0|                100|                      100|                  0.0|                0.0|Australia|                20.0|\n",
            "|    max|      Youth worker|Transportation|Increasing|       Moderate|           149998.5|               PhD|                         20|              10000|                    10000|                100.0|              99.99|      USA|                80.0|\n",
            "+-------+------------------+--------------+----------+---------------+-------------------+------------------+---------------------------+-------------------+-------------------------+---------------------+-------------------+---------+--------------------+\n",
            "\n"
          ]
        }
      ]
    },
    {
      "cell_type": "code",
      "source": [
        "df.count()\n",
        "\n"
      ],
      "metadata": {
        "colab": {
          "base_uri": "https://localhost:8080/"
        },
        "id": "PAQ1CcMBsMCZ",
        "outputId": "29729779-63db-48cf-f1d0-bf490c93c990"
      },
      "execution_count": 12,
      "outputs": [
        {
          "output_type": "execute_result",
          "data": {
            "text/plain": [
              "30000"
            ]
          },
          "metadata": {},
          "execution_count": 12
        }
      ]
    },
    {
      "cell_type": "code",
      "source": [
        "df.groupBy(\"AI Impact Level\").count().show()\n"
      ],
      "metadata": {
        "colab": {
          "base_uri": "https://localhost:8080/"
        },
        "id": "1UAD5ixmtP7I",
        "outputId": "c0b241a7-c816-45fc-ec12-b3e480ce92ba"
      },
      "execution_count": 13,
      "outputs": [
        {
          "output_type": "stream",
          "name": "stdout",
          "text": [
            "+---------------+-----+\n",
            "|AI Impact Level|count|\n",
            "+---------------+-----+\n",
            "|           High|10005|\n",
            "|            Low| 9953|\n",
            "|       Moderate|10042|\n",
            "+---------------+-----+\n",
            "\n"
          ]
        }
      ]
    },
    {
      "cell_type": "code",
      "source": [
        "df.toPandas().to_csv(\"cleaned_dataset.csv\", index=False)\n"
      ],
      "metadata": {
        "id": "SU9tHyT3tXxP"
      },
      "execution_count": 14,
      "outputs": []
    },
    {
      "cell_type": "code",
      "source": [
        "from google.colab import files\n",
        "files.download(\"cleaned_dataset.csv\")\n"
      ],
      "metadata": {
        "colab": {
          "base_uri": "https://localhost:8080/",
          "height": 17
        },
        "id": "d901wEhDuffx",
        "outputId": "39ea3b0c-dc91-423d-b929-383a18109dee"
      },
      "execution_count": 15,
      "outputs": [
        {
          "output_type": "display_data",
          "data": {
            "text/plain": [
              "<IPython.core.display.Javascript object>"
            ],
            "application/javascript": [
              "\n",
              "    async function download(id, filename, size) {\n",
              "      if (!google.colab.kernel.accessAllowed) {\n",
              "        return;\n",
              "      }\n",
              "      const div = document.createElement('div');\n",
              "      const label = document.createElement('label');\n",
              "      label.textContent = `Downloading \"${filename}\": `;\n",
              "      div.appendChild(label);\n",
              "      const progress = document.createElement('progress');\n",
              "      progress.max = size;\n",
              "      div.appendChild(progress);\n",
              "      document.body.appendChild(div);\n",
              "\n",
              "      const buffers = [];\n",
              "      let downloaded = 0;\n",
              "\n",
              "      const channel = await google.colab.kernel.comms.open(id);\n",
              "      // Send a message to notify the kernel that we're ready.\n",
              "      channel.send({})\n",
              "\n",
              "      for await (const message of channel.messages) {\n",
              "        // Send a message to notify the kernel that we're ready.\n",
              "        channel.send({})\n",
              "        if (message.buffers) {\n",
              "          for (const buffer of message.buffers) {\n",
              "            buffers.push(buffer);\n",
              "            downloaded += buffer.byteLength;\n",
              "            progress.value = downloaded;\n",
              "          }\n",
              "        }\n",
              "      }\n",
              "      const blob = new Blob(buffers, {type: 'application/binary'});\n",
              "      const a = document.createElement('a');\n",
              "      a.href = window.URL.createObjectURL(blob);\n",
              "      a.download = filename;\n",
              "      div.appendChild(a);\n",
              "      a.click();\n",
              "      div.remove();\n",
              "    }\n",
              "  "
            ]
          },
          "metadata": {}
        },
        {
          "output_type": "display_data",
          "data": {
            "text/plain": [
              "<IPython.core.display.Javascript object>"
            ],
            "application/javascript": [
              "download(\"download_544bdfef-5d57-422a-828b-ade0f6514c7c\", \"cleaned_dataset.csv\", 3285723)"
            ]
          },
          "metadata": {}
        }
      ]
    },
    {
      "cell_type": "code",
      "source": [
        "df.columns\n"
      ],
      "metadata": {
        "colab": {
          "base_uri": "https://localhost:8080/"
        },
        "id": "17CMUV7yu8VG",
        "outputId": "20ee350a-d4e4-4c5b-a59f-194aa85b3985"
      },
      "execution_count": 16,
      "outputs": [
        {
          "output_type": "execute_result",
          "data": {
            "text/plain": [
              "['Job Title',\n",
              " 'Industry',\n",
              " 'Job Status',\n",
              " 'AI Impact Level',\n",
              " 'Median Salary (USD)',\n",
              " 'Required Education',\n",
              " 'Experience Required (Years)',\n",
              " 'Job Openings (2024)',\n",
              " 'Projected Openings (2030)',\n",
              " 'Remote Work Ratio (%)',\n",
              " 'Automation Risk (%)',\n",
              " 'Location',\n",
              " 'Gender Diversity (%)']"
            ]
          },
          "metadata": {},
          "execution_count": 16
        }
      ]
    },
    {
      "cell_type": "code",
      "source": [
        "from pyspark.ml.feature import StringIndexer\n",
        "\n",
        "indexer = StringIndexer(inputCol=\"AI Impact Level\", outputCol=\"label\")\n",
        "df = indexer.fit(df).transform(df)\n",
        "df.select(\"AI Impact Level\", \"label\").show(5)\n"
      ],
      "metadata": {
        "colab": {
          "base_uri": "https://localhost:8080/"
        },
        "id": "ZB48Lfz9v3WH",
        "outputId": "3f56288c-317e-4f62-f482-e61d9073bb9d"
      },
      "execution_count": 17,
      "outputs": [
        {
          "output_type": "stream",
          "name": "stdout",
          "text": [
            "+---------------+-----+\n",
            "|AI Impact Level|label|\n",
            "+---------------+-----+\n",
            "|            Low|  2.0|\n",
            "|            Low|  2.0|\n",
            "|       Moderate|  0.0|\n",
            "|            Low|  2.0|\n",
            "|            Low|  2.0|\n",
            "+---------------+-----+\n",
            "only showing top 5 rows\n",
            "\n"
          ]
        }
      ]
    },
    {
      "cell_type": "code",
      "source": [
        "from pyspark.ml import Pipeline\n",
        "from pyspark.ml.feature import StringIndexer\n",
        "\n",
        "# Step 1: List of categorical columns\n",
        "cat_cols = [\"Job Title\", \"Industry\", \"Required Education\"]\n",
        "\n",
        "# Step 2: Create indexers for each column\n",
        "indexers = [StringIndexer(inputCol=col, outputCol=col+\"_indexed\") for col in cat_cols]\n",
        "\n",
        "# Step 3: Apply them in a pipeline\n",
        "pipeline = Pipeline(stages=indexers)\n",
        "df = pipeline.fit(df).transform(df)\n",
        "\n",
        "# Show encoded sample\n",
        "df.select(\"Job Title\", \"Job Title_indexed\").show(3)\n"
      ],
      "metadata": {
        "colab": {
          "base_uri": "https://localhost:8080/"
        },
        "id": "Fif5qRmewTRY",
        "outputId": "b93a201b-c7de-4b83-b7f3-7bcffef22673"
      },
      "execution_count": 18,
      "outputs": [
        {
          "output_type": "stream",
          "name": "stdout",
          "text": [
            "+--------------------+-----------------+\n",
            "|           Job Title|Job Title_indexed|\n",
            "+--------------------+-----------------+\n",
            "|Designer, fashion...|            584.0|\n",
            "|       Tax inspector|              7.0|\n",
            "|Accountant, chart...|            396.0|\n",
            "+--------------------+-----------------+\n",
            "only showing top 3 rows\n",
            "\n"
          ]
        }
      ]
    },
    {
      "cell_type": "code",
      "source": [
        "from pyspark.ml.feature import VectorAssembler\n",
        "\n",
        "input_features = [\n",
        " \"Median Salary (USD)\",\n",
        " \"Experience Required (Years)\",\n",
        " \"Job Openings (2024)\",\n",
        " \"Projected Openings (2030)\",\n",
        " \"Remote Work Ratio (%)\",\n",
        " \"Automation Risk (%)\",\n",
        " \"Gender Diversity (%)\",\n",
        " \"Job Title_indexed\",\n",
        " \"Industry_indexed\",\n",
        " \"Required Education_indexed\"\n",
        "]\n",
        "\n",
        "assembler = VectorAssembler(inputCols=input_features, outputCol=\"features\")\n",
        "df = assembler.transform(df)\n",
        "\n",
        "# Show final ML-ready data\n",
        "df.select(\"features\", \"label\").show(3, truncate=False)\n"
      ],
      "metadata": {
        "colab": {
          "base_uri": "https://localhost:8080/"
        },
        "id": "henDyxZqwzDg",
        "outputId": "5810eb97-d336-4f30-8938-80f4ca85dc21"
      },
      "execution_count": 19,
      "outputs": [
        {
          "output_type": "stream",
          "name": "stdout",
          "text": [
            "+------------------------------------------------------------+-----+\n",
            "|features                                                    |label|\n",
            "+------------------------------------------------------------+-----+\n",
            "|[113297.32,8.0,9548.0,7281.0,82.78,79.61,27.5,584.0,2.0,2.0]|2.0  |\n",
            "|[144115.67,3.0,5237.0,2017.0,96.21,85.85,49.69,7.0,4.0,0.0] |2.0  |\n",
            "|[59963.97,14.0,4412.0,4427.0,23.4,61.28,57.88,396.0,1.0,3.0]|0.0  |\n",
            "+------------------------------------------------------------+-----+\n",
            "only showing top 3 rows\n",
            "\n"
          ]
        }
      ]
    },
    {
      "cell_type": "code",
      "source": [
        "# Split data: 80% for training, 20% for testing\n",
        "train_data, test_data = df.randomSplit([0.8, 0.2], seed=42)\n",
        "\n",
        "print(\"Training rows:\", train_data.count())\n",
        "print(\"Testing rows:\", test_data.count())\n"
      ],
      "metadata": {
        "colab": {
          "base_uri": "https://localhost:8080/"
        },
        "id": "v0gz1y9uxNTK",
        "outputId": "2ec3d043-1c9d-4588-d44c-7cbc5ef71eaa"
      },
      "execution_count": 20,
      "outputs": [
        {
          "output_type": "stream",
          "name": "stdout",
          "text": [
            "Training rows: 24128\n",
            "Testing rows: 5872\n"
          ]
        }
      ]
    },
    {
      "cell_type": "code",
      "source": [
        "from pyspark.ml.classification import DecisionTreeClassifier\n",
        "\n",
        "# Increase maxBins to support high-cardinality feature\n",
        "dt = DecisionTreeClassifier(featuresCol=\"features\", labelCol=\"label\", maxBins=700)\n",
        "\n",
        "# Train the model\n",
        "dt_model = dt.fit(train_data)\n",
        "\n",
        "# Make predictions\n",
        "predictions = dt_model.transform(test_data)\n",
        "\n",
        "# Show predictions\n",
        "predictions.select(\"prediction\", \"label\", \"features\").show(5)\n"
      ],
      "metadata": {
        "colab": {
          "base_uri": "https://localhost:8080/"
        },
        "id": "k1aqmDtxyYSA",
        "outputId": "beaa4bac-84cc-4002-94f3-d9442ed4746b"
      },
      "execution_count": 23,
      "outputs": [
        {
          "output_type": "stream",
          "name": "stdout",
          "text": [
            "+----------+-----+--------------------+\n",
            "|prediction|label|            features|\n",
            "+----------+-----+--------------------+\n",
            "|       1.0|  2.0|[94763.19,3.0,680...|\n",
            "|       2.0|  1.0|[143179.25,12.0,1...|\n",
            "|       2.0|  1.0|[80043.27,15.0,15...|\n",
            "|       0.0|  1.0|[124331.05,18.0,4...|\n",
            "|       0.0|  1.0|[61168.3,19.0,104...|\n",
            "+----------+-----+--------------------+\n",
            "only showing top 5 rows\n",
            "\n"
          ]
        }
      ]
    },
    {
      "cell_type": "code",
      "source": [
        "from pyspark.ml.evaluation import MulticlassClassificationEvaluator\n",
        "\n",
        "evaluator = MulticlassClassificationEvaluator(\n",
        "    labelCol=\"label\", predictionCol=\"prediction\", metricName=\"accuracy\")\n",
        "\n",
        "accuracy = evaluator.evaluate(predictions)\n",
        "print(f\"Model Accuracy: {accuracy * 100:.2f}%\")\n"
      ],
      "metadata": {
        "colab": {
          "base_uri": "https://localhost:8080/"
        },
        "id": "GxmIqk2ay0a3",
        "outputId": "6ed5e108-2a54-402a-fe03-5ece1b257e00"
      },
      "execution_count": 24,
      "outputs": [
        {
          "output_type": "stream",
          "name": "stdout",
          "text": [
            "Model Accuracy: 33.46%\n"
          ]
        }
      ]
    },
    {
      "cell_type": "code",
      "source": [
        "from pyspark.ml.classification import RandomForestClassifier\n",
        "\n",
        "rf = RandomForestClassifier(featuresCol=\"features\", labelCol=\"label\", maxBins=700)\n",
        "rf_model = rf.fit(train_data)\n",
        "predictions = rf_model.transform(test_data)\n",
        "\n",
        "from pyspark.ml.evaluation import MulticlassClassificationEvaluator\n",
        "evaluator = MulticlassClassificationEvaluator(labelCol=\"label\", predictionCol=\"prediction\", metricName=\"accuracy\")\n",
        "accuracy = evaluator.evaluate(predictions)\n",
        "print(f\"Random Forest Accuracy: {accuracy * 100:.2f}%\")\n"
      ],
      "metadata": {
        "colab": {
          "base_uri": "https://localhost:8080/"
        },
        "id": "Iz-uRrbw0D5_",
        "outputId": "8a086bc3-6236-4243-891e-2ab5ac6b4915"
      },
      "execution_count": 25,
      "outputs": [
        {
          "output_type": "stream",
          "name": "stdout",
          "text": [
            "Random Forest Accuracy: 32.32%\n"
          ]
        }
      ]
    },
    {
      "cell_type": "code",
      "source": [
        "# Convert predictions to Pandas DataFrame\n",
        "pdf = predictions.select(\"prediction\", \"label\").toPandas()\n"
      ],
      "metadata": {
        "id": "HaF-nvfw3VYn"
      },
      "execution_count": 26,
      "outputs": []
    },
    {
      "cell_type": "code",
      "source": [
        "import matplotlib.pyplot as plt\n",
        "import seaborn as sns\n",
        "\n",
        "# Plot actual vs predicted label counts\n",
        "plt.figure(figsize=(8, 5))\n",
        "sns.countplot(data=pdf, x='label', color='skyblue', label='Actual')\n",
        "sns.countplot(data=pdf, x='prediction', color='red', alpha=0.5, label='Predicted')\n",
        "plt.title('Actual vs Predicted - AI Impact Level')\n",
        "plt.xlabel('Impact Level Label')\n",
        "plt.ylabel('Count')\n",
        "plt.legend()\n",
        "plt.show()\n"
      ],
      "metadata": {
        "colab": {
          "base_uri": "https://localhost:8080/",
          "height": 487
        },
        "id": "QwIvwOim3X0a",
        "outputId": "e83423df-0cac-4084-a879-f1ef2f0878ce"
      },
      "execution_count": 27,
      "outputs": [
        {
          "output_type": "display_data",
          "data": {
            "text/plain": [
              "<Figure size 800x500 with 1 Axes>"
            ],
            "image/png": "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\n"
          },
          "metadata": {}
        }
      ]
    },
    {
      "cell_type": "code",
      "source": [
        "# Original target column (before ML)\n",
        "df.toPandas()['AI Impact Level'].value_counts().plot.pie(\n",
        "    autopct='%1.1f%%', shadow=True, startangle=140, figsize=(6, 6), title='AI Impact Level Distribution')\n",
        "plt.ylabel(\"\")\n",
        "plt.show()\n"
      ],
      "metadata": {
        "colab": {
          "base_uri": "https://localhost:8080/",
          "height": 521
        },
        "id": "PuszaMf-37SL",
        "outputId": "b4a042a0-6c2b-417c-a1ae-3dc9ee37bfc1"
      },
      "execution_count": 28,
      "outputs": [
        {
          "output_type": "display_data",
          "data": {
            "text/plain": [
              "<Figure size 600x600 with 1 Axes>"
            ],
            "image/png": "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\n"
          },
          "metadata": {}
        }
      ]
    },
    {
      "cell_type": "markdown",
      "metadata": {
        "id": "ufxBm1yRnruN"
      },
      "source": [
        "Colab is used extensively in the machine learning community with applications including:\n",
        "- Getting started with TensorFlow\n",
        "- Developing and training neural networks\n",
        "- Experimenting with TPUs\n",
        "- Disseminating AI research\n",
        "- Creating tutorials\n",
        "\n",
        "To see sample Colab notebooks that demonstrate machine learning applications, see the [machine learning examples](#machine-learning-examples) below."
      ]
    },
    {
      "cell_type": "markdown",
      "metadata": {
        "id": "-Rh3-Vt9Nev9"
      },
      "source": [
        "<div class=\"markdown-google-sans\">\n",
        "\n",
        "## More Resources\n",
        "\n",
        "### Working with Notebooks in Colab\n",
        "\n",
        "</div>\n",
        "\n",
        "- [Overview of Colab](/notebooks/basic_features_overview.ipynb)\n",
        "- [Guide to Markdown](/notebooks/markdown_guide.ipynb)\n",
        "- [Importing libraries and installing dependencies](/notebooks/snippets/importing_libraries.ipynb)\n",
        "- [Saving and loading notebooks in GitHub](https://colab.research.google.com/github/googlecolab/colabtools/blob/main/notebooks/colab-github-demo.ipynb)\n",
        "- [Interactive forms](/notebooks/forms.ipynb)\n",
        "- [Interactive widgets](/notebooks/widgets.ipynb)\n",
        "\n",
        "<div class=\"markdown-google-sans\">\n",
        "\n",
        "<a name=\"working-with-data\"></a>\n",
        "### Working with Data\n",
        "</div>\n",
        "\n",
        "- [Loading data: Drive, Sheets, and Google Cloud Storage](/notebooks/io.ipynb)\n",
        "- [Charts: visualizing data](/notebooks/charts.ipynb)\n",
        "- [Getting started with BigQuery](/notebooks/bigquery.ipynb)\n",
        "\n",
        "<div class=\"markdown-google-sans\">\n",
        "\n",
        "### Machine Learning\n",
        "\n",
        "<div>\n",
        "\n",
        "These are a few of the notebooks related to Machine Learning, including Google's online Machine Learning course. See the [full course website](https://developers.google.com/machine-learning/crash-course/) for more.\n",
        "- [Intro to Pandas DataFrame](https://colab.research.google.com/github/google/eng-edu/blob/main/ml/cc/exercises/pandas_dataframe_ultraquick_tutorial.ipynb)\n",
        "- [Intro to RAPIDS cuDF to accelerate pandas](https://nvda.ws/rapids-cudf)\n",
        "- [Getting Started with cuML's accelerator mode](https://colab.research.google.com/github/rapidsai-community/showcase/blob/main/getting_started_tutorials/cuml_sklearn_colab_demo.ipynb)\n",
        "- [Linear regression with tf.keras using synthetic data](https://colab.research.google.com/github/google/eng-edu/blob/main/ml/cc/exercises/linear_regression_with_synthetic_data.ipynb)\n",
        "\n",
        "<div class=\"markdown-google-sans\">\n",
        "\n",
        "<a name=\"using-accelerated-hardware\"></a>\n",
        "### Using Accelerated Hardware\n",
        "</div>\n",
        "\n",
        "- [TensorFlow with GPUs](/notebooks/gpu.ipynb)\n",
        "- [TPUs in Colab](/notebooks/tpu.ipynb)"
      ]
    },
    {
      "cell_type": "markdown",
      "metadata": {
        "id": "P-H6Lw1vyNNd"
      },
      "source": [
        "<div class=\"markdown-google-sans\">\n",
        "\n",
        "<a name=\"machine-learning-examples\"></a>\n",
        "\n",
        "### Featured examples\n",
        "\n",
        "</div>\n",
        "\n",
        "- [Retraining an Image Classifier](https://tensorflow.org/hub/tutorials/tf2_image_retraining): Build a Keras model on top of a pre-trained image classifier to distinguish flowers.\n",
        "- [Text Classification](https://tensorflow.org/hub/tutorials/tf2_text_classification): Classify IMDB movie reviews as either *positive* or *negative*.\n",
        "- [Style Transfer](https://tensorflow.org/hub/tutorials/tf2_arbitrary_image_stylization): Use deep learning to transfer style between images.\n",
        "- [Multilingual Universal Sentence Encoder Q&A](https://tensorflow.org/hub/tutorials/retrieval_with_tf_hub_universal_encoder_qa): Use a machine learning model to answer questions from the SQuAD dataset.\n",
        "- [Video Interpolation](https://tensorflow.org/hub/tutorials/tweening_conv3d): Predict what happened in a video between the first and the last frame.\n"
      ]
    }
  ],
  "metadata": {
    "colab": {
      "name": "Welcome To Colab",
      "provenance": []
    },
    "kernelspec": {
      "display_name": "Python 3",
      "name": "python3"
    }
  },
  "nbformat": 4,
  "nbformat_minor": 0
}
